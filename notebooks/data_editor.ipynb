{
 "cells": [
  {
   "cell_type": "code",
   "execution_count": 1,
   "id": "1e0a7e93",
   "metadata": {},
   "outputs": [],
   "source": [
    "import pandas as pd\n",
    "import sys\n",
    "import numpy as np"
   ]
  },
  {
   "cell_type": "code",
   "execution_count": 2,
   "id": "80ce8b74",
   "metadata": {},
   "outputs": [],
   "source": [
    "df = pd.read_csv(\"/Volumes/T7/Python_Projects/Document Segmentation using NER & Visual Features/data/Training/(3) renate_merged_pages - enhanced bounds.csv\")"
   ]
  },
  {
   "cell_type": "code",
   "execution_count": 3,
   "id": "648cd29e",
   "metadata": {},
   "outputs": [
    {
     "data": {
      "text/html": [
       "<div>\n",
       "<style scoped>\n",
       "    .dataframe tbody tr th:only-of-type {\n",
       "        vertical-align: middle;\n",
       "    }\n",
       "\n",
       "    .dataframe tbody tr th {\n",
       "        vertical-align: top;\n",
       "    }\n",
       "\n",
       "    .dataframe thead th {\n",
       "        text-align: right;\n",
       "    }\n",
       "</style>\n",
       "<table border=\"1\" class=\"dataframe\">\n",
       "  <thead>\n",
       "    <tr style=\"text-align: right;\">\n",
       "      <th></th>\n",
       "      <th>Scan File_Name</th>\n",
       "      <th>TANAP Boundaries</th>\n",
       "      <th>TANAP ID</th>\n",
       "      <th>Subdocument boundaries</th>\n",
       "      <th>Type of non-document page</th>\n",
       "      <th>xml_data</th>\n",
       "      <th>xmi_data</th>\n",
       "      <th>scan_url</th>\n",
       "    </tr>\n",
       "  </thead>\n",
       "  <tbody>\n",
       "    <tr>\n",
       "      <th>0</th>\n",
       "      <td>NL-HaNA_1.04.02_1120_0001</td>\n",
       "      <td>NONE</td>\n",
       "      <td>NaN</td>\n",
       "      <td>NaN</td>\n",
       "      <td>Cover</td>\n",
       "      <td>&lt;?xml version='1.0' encoding='UTF-8'?&gt;\\n&lt;PcGts...</td>\n",
       "      <td>&lt;?xml version='1.0' encoding='UTF-8'?&gt;\\n&lt;xmi:X...</td>\n",
       "      <td>https://www.nationaalarchief.nl/onderzoeken/ar...</td>\n",
       "    </tr>\n",
       "    <tr>\n",
       "      <th>1</th>\n",
       "      <td>NL-HaNA_1.04.02_1120_0002</td>\n",
       "      <td>NONE</td>\n",
       "      <td>NaN</td>\n",
       "      <td>NaN</td>\n",
       "      <td>Empty</td>\n",
       "      <td>&lt;?xml version='1.0' encoding='UTF-8'?&gt;\\n&lt;PcGts...</td>\n",
       "      <td>NaN</td>\n",
       "      <td>https://www.nationaalarchief.nl/onderzoeken/ar...</td>\n",
       "    </tr>\n",
       "    <tr>\n",
       "      <th>2</th>\n",
       "      <td>NL-HaNA_1.04.02_1120_0003</td>\n",
       "      <td>NONE</td>\n",
       "      <td>NaN</td>\n",
       "      <td>NaN</td>\n",
       "      <td>Empty</td>\n",
       "      <td>&lt;?xml version='1.0' encoding='UTF-8'?&gt;\\n&lt;PcGts...</td>\n",
       "      <td>NaN</td>\n",
       "      <td>https://www.nationaalarchief.nl/onderzoeken/ar...</td>\n",
       "    </tr>\n",
       "    <tr>\n",
       "      <th>3</th>\n",
       "      <td>NL-HaNA_1.04.02_1120_0004</td>\n",
       "      <td>NONE</td>\n",
       "      <td>NaN</td>\n",
       "      <td>NaN</td>\n",
       "      <td>Empty</td>\n",
       "      <td>&lt;?xml version='1.0' encoding='UTF-8'?&gt;\\n&lt;PcGts...</td>\n",
       "      <td>NaN</td>\n",
       "      <td>https://www.nationaalarchief.nl/onderzoeken/ar...</td>\n",
       "    </tr>\n",
       "    <tr>\n",
       "      <th>4</th>\n",
       "      <td>NL-HaNA_1.04.02_1120_0005</td>\n",
       "      <td>NONE</td>\n",
       "      <td>NaN</td>\n",
       "      <td>NaN</td>\n",
       "      <td>Empty</td>\n",
       "      <td>&lt;?xml version='1.0' encoding='UTF-8'?&gt;\\n&lt;PcGts...</td>\n",
       "      <td>NaN</td>\n",
       "      <td>https://www.nationaalarchief.nl/onderzoeken/ar...</td>\n",
       "    </tr>\n",
       "  </tbody>\n",
       "</table>\n",
       "</div>"
      ],
      "text/plain": [
       "              Scan File_Name TANAP Boundaries  TANAP ID  \\\n",
       "0  NL-HaNA_1.04.02_1120_0001             NONE       NaN   \n",
       "1  NL-HaNA_1.04.02_1120_0002             NONE       NaN   \n",
       "2  NL-HaNA_1.04.02_1120_0003             NONE       NaN   \n",
       "3  NL-HaNA_1.04.02_1120_0004             NONE       NaN   \n",
       "4  NL-HaNA_1.04.02_1120_0005             NONE       NaN   \n",
       "\n",
       "  Subdocument boundaries Type of non-document page  \\\n",
       "0                    NaN                     Cover   \n",
       "1                    NaN                     Empty   \n",
       "2                    NaN                     Empty   \n",
       "3                    NaN                     Empty   \n",
       "4                    NaN                     Empty   \n",
       "\n",
       "                                            xml_data  \\\n",
       "0  <?xml version='1.0' encoding='UTF-8'?>\\n<PcGts...   \n",
       "1  <?xml version='1.0' encoding='UTF-8'?>\\n<PcGts...   \n",
       "2  <?xml version='1.0' encoding='UTF-8'?>\\n<PcGts...   \n",
       "3  <?xml version='1.0' encoding='UTF-8'?>\\n<PcGts...   \n",
       "4  <?xml version='1.0' encoding='UTF-8'?>\\n<PcGts...   \n",
       "\n",
       "                                            xmi_data  \\\n",
       "0  <?xml version='1.0' encoding='UTF-8'?>\\n<xmi:X...   \n",
       "1                                                NaN   \n",
       "2                                                NaN   \n",
       "3                                                NaN   \n",
       "4                                                NaN   \n",
       "\n",
       "                                            scan_url  \n",
       "0  https://www.nationaalarchief.nl/onderzoeken/ar...  \n",
       "1  https://www.nationaalarchief.nl/onderzoeken/ar...  \n",
       "2  https://www.nationaalarchief.nl/onderzoeken/ar...  \n",
       "3  https://www.nationaalarchief.nl/onderzoeken/ar...  \n",
       "4  https://www.nationaalarchief.nl/onderzoeken/ar...  "
      ]
     },
     "execution_count": 3,
     "metadata": {},
     "output_type": "execute_result"
    }
   ],
   "source": [
    "df.head()"
   ]
  },
  {
   "cell_type": "code",
   "execution_count": 4,
   "id": "ad199e8b",
   "metadata": {},
   "outputs": [],
   "source": [
    "# Drop the columns \"TANAP ID\", \"Subdocument boundaries\", and \"Type of non-document page\"\n",
    "df = df.drop(columns=[\"TANAP ID\", \"Subdocument boundaries\", \"Type of non-document page\"])"
   ]
  },
  {
   "cell_type": "code",
   "execution_count": 8,
   "id": "5ca654ef",
   "metadata": {},
   "outputs": [],
   "source": [
    "# Export 15 rows of the dataframe to a CSV file that are in sequence\n",
    "df.iloc[100:115].to_csv(\"/Volumes/T7/Python_Projects/Document Segmentation using NER & Visual Features/data/Training/dataset_sample.csv\", index=False)"
   ]
  },
  {
   "cell_type": "code",
   "execution_count": 9,
   "id": "fd9d1905",
   "metadata": {},
   "outputs": [],
   "source": [
    "# export the dataframe to a CSV file\n",
    "df.to_csv(\"/Volumes/T7/Python_Projects/Document Segmentation using NER & Visual Features/data/Training/renate_dataset.csv\", index=False)"
   ]
  }
 ],
 "metadata": {
  "kernelspec": {
   "display_name": "base",
   "language": "python",
   "name": "python3"
  },
  "language_info": {
   "codemirror_mode": {
    "name": "ipython",
    "version": 3
   },
   "file_extension": ".py",
   "mimetype": "text/x-python",
   "name": "python",
   "nbconvert_exporter": "python",
   "pygments_lexer": "ipython3",
   "version": "3.12.7"
  }
 },
 "nbformat": 4,
 "nbformat_minor": 5
}
