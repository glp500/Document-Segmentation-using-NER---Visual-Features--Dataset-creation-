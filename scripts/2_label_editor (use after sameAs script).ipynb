{
 "cells": [
  {
   "cell_type": "code",
   "execution_count": 1,
   "id": "3ed81bf9",
   "metadata": {},
   "outputs": [],
   "source": [
    "import pandas as pd\n",
    "from pathlib import Path\n",
    "from xml.etree import ElementTree as ET\n",
    "import matplotlib.pyplot as plt\n",
    "import seaborn as sns\n",
    "import numpy as np"
   ]
  },
  {
   "cell_type": "code",
   "execution_count": 3,
   "id": "a7ca96b6",
   "metadata": {},
   "outputs": [],
   "source": [
    "df = pd.read_csv(\"/Volumes/T7/Python_Projects/Document Segmentation using NER & Visual Features/data/Training/(1) renate_merged_pages_filtered.csv\")"
   ]
  },
  {
   "cell_type": "code",
   "execution_count": 4,
   "id": "69ef7d69",
   "metadata": {},
   "outputs": [
    {
     "name": "stdout",
     "output_type": "stream",
     "text": [
      "TANAP Boundaries\n",
      "START     1090\n",
      "END       1090\n",
      "             1\n",
      "START        1\n",
      "Name: count, dtype: int64\n"
     ]
    }
   ],
   "source": [
    "# Count the types of values in the column \"TANAP Boundaries\"\n",
    "tanap_counts = df['TANAP Boundaries'].value_counts()\n",
    "\n",
    "# print the counts\n",
    "print(tanap_counts)"
   ]
  },
  {
   "cell_type": "code",
   "execution_count": 5,
   "id": "1e5de3fb",
   "metadata": {},
   "outputs": [
    {
     "name": "stdout",
     "output_type": "stream",
     "text": [
      "\n",
      "Rows for TANAP Boundaries value ' ':\n",
      "                 Scan File_Name TANAP Boundaries  TANAP ID  \\\n",
      "6921  NL-HaNA_1.04.02_1557_0485            START   41428.0   \n",
      "6922  NL-HaNA_1.04.02_1557_0486              END   41428.0   \n",
      "6923  NL-HaNA_1.04.02_1557_0486            START   41429.0   \n",
      "6924  NL-HaNA_1.04.02_1557_0487              END   41429.0   \n",
      "6925  NL-HaNA_1.04.02_1557_0488            START   41430.0   \n",
      "6926  NL-HaNA_1.04.02_1557_0489                    41430.0   \n",
      "6927  NL-HaNA_1.04.02_1557_0490              NaN   41430.0   \n",
      "6928  NL-HaNA_1.04.02_1557_0491              NaN   41430.0   \n",
      "6929  NL-HaNA_1.04.02_1557_0492              NaN   41430.0   \n",
      "6930  NL-HaNA_1.04.02_1557_0493              NaN   41430.0   \n",
      "6931  NL-HaNA_1.04.02_1557_0494              NaN   41430.0   \n",
      "\n",
      "     Subdocument boundaries Type of non-document page  \\\n",
      "6921                    NaN                       NaN   \n",
      "6922                    NaN                       NaN   \n",
      "6923                    NaN                       NaN   \n",
      "6924                    NaN                       NaN   \n",
      "6925                    NaN                       NaN   \n",
      "6926                    NaN                       NaN   \n",
      "6927                    NaN                       NaN   \n",
      "6928                    NaN                       NaN   \n",
      "6929                    NaN                       NaN   \n",
      "6930                    NaN                       NaN   \n",
      "6931                    NaN                       NaN   \n",
      "\n",
      "                                               xml_data  \\\n",
      "6921  <?xml version='1.0' encoding='UTF-8'?>\\n<PcGts...   \n",
      "6922  <?xml version='1.0' encoding='UTF-8'?>\\n<PcGts...   \n",
      "6923  <?xml version='1.0' encoding='UTF-8'?>\\n<PcGts...   \n",
      "6924  <?xml version='1.0' encoding='UTF-8'?>\\n<PcGts...   \n",
      "6925  <?xml version='1.0' encoding='UTF-8'?>\\n<PcGts...   \n",
      "6926  <?xml version='1.0' encoding='UTF-8'?>\\n<PcGts...   \n",
      "6927  <?xml version='1.0' encoding='UTF-8'?>\\n<PcGts...   \n",
      "6928  <?xml version='1.0' encoding='UTF-8'?>\\n<PcGts...   \n",
      "6929  <?xml version='1.0' encoding='UTF-8'?>\\n<PcGts...   \n",
      "6930  <?xml version='1.0' encoding='UTF-8'?>\\n<PcGts...   \n",
      "6931  <?xml version='1.0' encoding='UTF-8'?>\\n<PcGts...   \n",
      "\n",
      "                                               xmi_data  \\\n",
      "6921  <?xml version='1.0' encoding='UTF-8'?>\\n<xmi:X...   \n",
      "6922  <?xml version='1.0' encoding='UTF-8'?>\\n<xmi:X...   \n",
      "6923  <?xml version='1.0' encoding='UTF-8'?>\\n<xmi:X...   \n",
      "6924  <?xml version='1.0' encoding='UTF-8'?>\\n<xmi:X...   \n",
      "6925  <?xml version='1.0' encoding='UTF-8'?>\\n<xmi:X...   \n",
      "6926  <?xml version='1.0' encoding='UTF-8'?>\\n<xmi:X...   \n",
      "6927  <?xml version='1.0' encoding='UTF-8'?>\\n<xmi:X...   \n",
      "6928  <?xml version='1.0' encoding='UTF-8'?>\\n<xmi:X...   \n",
      "6929  <?xml version='1.0' encoding='UTF-8'?>\\n<xmi:X...   \n",
      "6930  <?xml version='1.0' encoding='UTF-8'?>\\n<xmi:X...   \n",
      "6931  <?xml version='1.0' encoding='UTF-8'?>\\n<xmi:X...   \n",
      "\n",
      "                                               scan_url  \n",
      "6921  https://www.nationaalarchief.nl/onderzoeken/ar...  \n",
      "6922  https://www.nationaalarchief.nl/onderzoeken/ar...  \n",
      "6923  https://www.nationaalarchief.nl/onderzoeken/ar...  \n",
      "6924  https://www.nationaalarchief.nl/onderzoeken/ar...  \n",
      "6925  https://www.nationaalarchief.nl/onderzoeken/ar...  \n",
      "6926  https://www.nationaalarchief.nl/onderzoeken/ar...  \n",
      "6927  https://www.nationaalarchief.nl/onderzoeken/ar...  \n",
      "6928  https://www.nationaalarchief.nl/onderzoeken/ar...  \n",
      "6929  https://www.nationaalarchief.nl/onderzoeken/ar...  \n",
      "6930  https://www.nationaalarchief.nl/onderzoeken/ar...  \n",
      "6931  https://www.nationaalarchief.nl/onderzoeken/ar...  \n",
      "\n",
      "---\n",
      "\n",
      "\n",
      "Rows for TANAP Boundaries value 'START ':\n",
      "                  Scan File_Name TANAP Boundaries  TANAP ID  \\\n",
      "13926  NL-HaNA_1.04.02_3891_0582              NaN  104016.0   \n",
      "13927  NL-HaNA_1.04.02_3891_0583              NaN  104016.0   \n",
      "13928  NL-HaNA_1.04.02_3891_0584              END  104016.0   \n",
      "13929  NL-HaNA_1.04.02_3891_0585              NaN       NaN   \n",
      "13930  NL-HaNA_1.04.02_3891_0586              NaN       NaN   \n",
      "13931  NL-HaNA_1.04.02_3891_0587           START   104017.0   \n",
      "13932  NL-HaNA_1.04.02_3891_0588              NaN  104017.0   \n",
      "13933  NL-HaNA_1.04.02_3891_0589              NaN  104017.0   \n",
      "13934  NL-HaNA_1.04.02_3891_0590              NaN  104017.0   \n",
      "13935  NL-HaNA_1.04.02_3891_0591              NaN  104017.0   \n",
      "13936  NL-HaNA_1.04.02_3891_0592              NaN  104017.0   \n",
      "\n",
      "      Subdocument boundaries Type of non-document page  \\\n",
      "13926                    NaN                       NaN   \n",
      "13927                  START                       NaN   \n",
      "13928                    END                       NaN   \n",
      "13929                    NaN                     Empty   \n",
      "13930                    NaN       Document title page   \n",
      "13931                    NaN                       NaN   \n",
      "13932                    NaN                       NaN   \n",
      "13933                    NaN                       NaN   \n",
      "13934                    NaN                       NaN   \n",
      "13935                    NaN                       NaN   \n",
      "13936                    NaN                       NaN   \n",
      "\n",
      "                                                xml_data  \\\n",
      "13926  <?xml version='1.0' encoding='UTF-8'?>\\n<PcGts...   \n",
      "13927  <?xml version='1.0' encoding='UTF-8'?>\\n<PcGts...   \n",
      "13928  <?xml version='1.0' encoding='UTF-8'?>\\n<PcGts...   \n",
      "13929  <?xml version='1.0' encoding='UTF-8'?>\\n<PcGts...   \n",
      "13930  <?xml version='1.0' encoding='UTF-8'?>\\n<PcGts...   \n",
      "13931  <?xml version='1.0' encoding='UTF-8'?>\\n<PcGts...   \n",
      "13932  <?xml version='1.0' encoding='UTF-8'?>\\n<PcGts...   \n",
      "13933  <?xml version='1.0' encoding='UTF-8'?>\\n<PcGts...   \n",
      "13934  <?xml version='1.0' encoding='UTF-8'?>\\n<PcGts...   \n",
      "13935  <?xml version='1.0' encoding='UTF-8'?>\\n<PcGts...   \n",
      "13936  <?xml version='1.0' encoding='UTF-8'?>\\n<PcGts...   \n",
      "\n",
      "                                                xmi_data  \\\n",
      "13926  <?xml version='1.0' encoding='UTF-8'?>\\n<xmi:X...   \n",
      "13927  <?xml version='1.0' encoding='UTF-8'?>\\n<xmi:X...   \n",
      "13928  <?xml version='1.0' encoding='UTF-8'?>\\n<xmi:X...   \n",
      "13929  <?xml version='1.0' encoding='UTF-8'?>\\n<xmi:X...   \n",
      "13930  <?xml version='1.0' encoding='UTF-8'?>\\n<xmi:X...   \n",
      "13931  <?xml version='1.0' encoding='UTF-8'?>\\n<xmi:X...   \n",
      "13932  <?xml version='1.0' encoding='UTF-8'?>\\n<xmi:X...   \n",
      "13933  <?xml version='1.0' encoding='UTF-8'?>\\n<xmi:X...   \n",
      "13934  <?xml version='1.0' encoding='UTF-8'?>\\n<xmi:X...   \n",
      "13935  <?xml version='1.0' encoding='UTF-8'?>\\n<xmi:X...   \n",
      "13936  <?xml version='1.0' encoding='UTF-8'?>\\n<xmi:X...   \n",
      "\n",
      "                                                scan_url  \n",
      "13926  https://www.nationaalarchief.nl/onderzoeken/ar...  \n",
      "13927  https://www.nationaalarchief.nl/onderzoeken/ar...  \n",
      "13928  https://www.nationaalarchief.nl/onderzoeken/ar...  \n",
      "13929  https://www.nationaalarchief.nl/onderzoeken/ar...  \n",
      "13930  https://www.nationaalarchief.nl/onderzoeken/ar...  \n",
      "13931  https://www.nationaalarchief.nl/onderzoeken/ar...  \n",
      "13932  https://www.nationaalarchief.nl/onderzoeken/ar...  \n",
      "13933  https://www.nationaalarchief.nl/onderzoeken/ar...  \n",
      "13934  https://www.nationaalarchief.nl/onderzoeken/ar...  \n",
      "13935  https://www.nationaalarchief.nl/onderzoeken/ar...  \n",
      "13936  https://www.nationaalarchief.nl/onderzoeken/ar...  \n",
      "\n",
      "---\n",
      "\n"
     ]
    }
   ],
   "source": [
    "# For the counts that have a count less than 10, sshow its row and the surrounding rows\n",
    "for tanap_value in tanap_counts[tanap_counts < 10].index:\n",
    "    print(f\"\\nRows for TANAP Boundaries value '{tanap_value}':\")\n",
    "    rows = df[df['TANAP Boundaries'] == tanap_value]\n",
    "    for index in rows.index:\n",
    "        start_index = max(0, index - 5)\n",
    "        end_index = min(len(df), index + 6)\n",
    "        print(df.iloc[start_index:end_index])\n",
    "        print(\"\\n---\\n\")  # Separator for clarity"
   ]
  },
  {
   "cell_type": "code",
   "execution_count": 6,
   "id": "aeaa75b5",
   "metadata": {},
   "outputs": [],
   "source": [
    "# For row number 6926 change the value to NaN\n",
    "df.at[6926, 'TANAP Boundaries'] = np.nan\n",
    "\n",
    "# For the row 13931 change the value to \"Start\"\n",
    "df.at[13931, 'TANAP Boundaries'] = \"START\""
   ]
  },
  {
   "cell_type": "code",
   "execution_count": 7,
   "id": "4bfd4c2c",
   "metadata": {},
   "outputs": [
    {
     "name": "stdout",
     "output_type": "stream",
     "text": [
      "TANAP Boundaries\n",
      "START    1091\n",
      "END      1090\n",
      "Name: count, dtype: int64\n"
     ]
    }
   ],
   "source": [
    "# Count the types of values in the column \"TANAP Boundaries\"\n",
    "tanap_counts = df['TANAP Boundaries'].value_counts()\n",
    "\n",
    "# print the counts\n",
    "print(tanap_counts)"
   ]
  },
  {
   "cell_type": "code",
   "execution_count": 8,
   "id": "6dc25982",
   "metadata": {},
   "outputs": [],
   "source": [
    "# Export the modified DataFrame to a new CSV file\n",
    "output_path = Path(\"/Volumes/T7/Python_Projects/Document Segmentation using NER & Visual Features/data/Training/(3) renate_merged_pages - removed faulty labels.csv\")\n",
    "df.to_csv(output_path, index=False)"
   ]
  }
 ],
 "metadata": {
  "kernelspec": {
   "display_name": "base",
   "language": "python",
   "name": "python3"
  },
  "language_info": {
   "codemirror_mode": {
    "name": "ipython",
    "version": 3
   },
   "file_extension": ".py",
   "mimetype": "text/x-python",
   "name": "python",
   "nbconvert_exporter": "python",
   "pygments_lexer": "ipython3",
   "version": "3.12.7"
  }
 },
 "nbformat": 4,
 "nbformat_minor": 5
}
